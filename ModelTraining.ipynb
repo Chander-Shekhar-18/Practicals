{
 "cells": [
  {
   "cell_type": "code",
   "execution_count": 17,
   "metadata": {},
   "outputs": [
    {
     "name": "stdout",
     "output_type": "stream",
     "text": [
      "Predicted Label: Deepfake\n"
     ]
    }
   ],
   "source": [
    "from transformers import ViTForImageClassification, ViTImageProcessor\n",
    "from PIL import Image\n",
    "import torch\n",
    "\n",
    "# Load the model and processor\n",
    "model = ViTForImageClassification.from_pretrained(\"prithivMLmods/AI-vs-Deepfake-vs-Real\")\n",
    "processor = ViTImageProcessor.from_pretrained(\"prithivMLmods/AI-vs-Deepfake-vs-Real\")\n",
    "\n",
    "# Load and preprocess the image\n",
    "image = Image.open(\"/home/ws5/Downloads/image14.png\").convert(\"RGB\")\n",
    "inputs = processor(images=image, return_tensors=\"pt\")\n",
    "\n",
    "# Perform inference\n",
    "with torch.no_grad():\n",
    "    outputs = model(**inputs)\n",
    "    logits = outputs.logits\n",
    "    predicted_class = torch.argmax(logits, dim=1).item()\n",
    "\n",
    "# Map class index to label\n",
    "label = model.config.id2label[predicted_class]\n",
    "print(f\"Predicted Label: {label}\")"
   ]
  }
 ],
 "metadata": {
  "kernelspec": {
   "display_name": "Python 3",
   "language": "python",
   "name": "python3"
  },
  "language_info": {
   "codemirror_mode": {
    "name": "ipython",
    "version": 3
   },
   "file_extension": ".py",
   "mimetype": "text/x-python",
   "name": "python",
   "nbconvert_exporter": "python",
   "pygments_lexer": "ipython3",
   "version": "3.8.10"
  }
 },
 "nbformat": 4,
 "nbformat_minor": 2
}
